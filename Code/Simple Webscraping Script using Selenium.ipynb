{
 "cells": [
  {
   "cell_type": "markdown",
   "id": "a63ef316",
   "metadata": {},
   "source": [
    "# Webscraping Products from Under Armour Website"
   ]
  },
  {
   "cell_type": "markdown",
   "id": "2725431c",
   "metadata": {},
   "source": [
    "## 1. Importing Libraries"
   ]
  },
  {
   "cell_type": "code",
   "execution_count": 1,
   "id": "c7f0a653",
   "metadata": {},
   "outputs": [],
   "source": [
    "import re\n",
    "import pandas as pd\n",
    "import requests\n",
    "from bs4 import BeautifulSoup\n",
    "\n",
    "import selenium\n",
    "from selenium import webdriver\n",
    "from selenium.webdriver.common.keys import Keys\n",
    "from selenium.webdriver.common.by import By\n",
    "from selenium.webdriver.support.ui import WebDriverWait\n",
    "from selenium.webdriver.support import expected_conditions as EC\n",
    "\n",
    "import time\n",
    "import warnings\n",
    "warnings.filterwarnings('ignore')"
   ]
  },
  {
   "cell_type": "markdown",
   "id": "a537c7d9",
   "metadata": {},
   "source": [
    "## 2. Extracting the Data from Website"
   ]
  },
  {
   "cell_type": "code",
   "execution_count": 2,
   "id": "685758d1",
   "metadata": {
    "scrolled": true
   },
   "outputs": [
    {
     "name": "stdout",
     "output_type": "stream",
     "text": [
      "CPU times: total: 7 s\n",
      "Wall time: 2min 7s\n"
     ]
    }
   ],
   "source": [
    "%%time\n",
    "\n",
    "# Part 1: Opening the webpage to be scraped\n",
    "driver = webdriver.Chrome('C:/Users/Temp User/Desktop/Portfolio/chromedriver.exe')\n",
    "driver.maximize_window()\n",
    "driver.get('https://www.underarmour.com.sg/en-sg/c/men-now-trending/')\n",
    "\n",
    "# Part 2: Scrolling all the way down to load the full webpage\n",
    "old_height = driver.execute_script('return document.body.scrollHeight')\n",
    "\n",
    "while True:\n",
    "    driver.execute_script('window.scrollTo(0, document.body.scrollHeight)')\n",
    "    time.sleep(3)\n",
    "    new_height = driver.execute_script('return document.body.scrollHeight')\n",
    "    if new_height == old_height:\n",
    "        break\n",
    "    old_height = new_height\n",
    "\n",
    "# Part 3: Scraping the website\n",
    "soup = BeautifulSoup(driver.page_source, 'lxml')\n",
    "\n",
    "listings = soup.find_all('div', 'b-tile bfx-price-product js-cmp-inited js-cmp-productTile')\n",
    "\n",
    "# Part 4: Getting all the necessary info and putting into a DF\n",
    "df = pd.DataFrame({'Link':[''], 'Item':[''], 'Colours':[''], 'Price':['']})\n",
    "\n",
    "for lst in listings:\n",
    "    try:\n",
    "        link = lst.find('a', class_ = 'b-tile-images_container').get('href')\n",
    "        full_link = 'https://www.underarmour.com.sg' + link\n",
    "        product = lst.find('a', class_ = 'b-tile-name').text\n",
    "        details = lst.find('a', class_ = 'b-tile-swatches_count').text.strip()\n",
    "        price = lst.find('span', class_ = re.compile('b-price-value')).text.strip()\n",
    "        \n",
    "        df = df.append({'Link':full_link, 'Item':product, 'Colours':details, 'Price':price}, ignore_index = True)\n",
    "        \n",
    "    except:\n",
    "        pass"
   ]
  },
  {
   "cell_type": "code",
   "execution_count": 3,
   "id": "39c442df",
   "metadata": {},
   "outputs": [
    {
     "data": {
      "text/html": [
       "<div>\n",
       "<style scoped>\n",
       "    .dataframe tbody tr th:only-of-type {\n",
       "        vertical-align: middle;\n",
       "    }\n",
       "\n",
       "    .dataframe tbody tr th {\n",
       "        vertical-align: top;\n",
       "    }\n",
       "\n",
       "    .dataframe thead th {\n",
       "        text-align: right;\n",
       "    }\n",
       "</style>\n",
       "<table border=\"1\" class=\"dataframe\">\n",
       "  <thead>\n",
       "    <tr style=\"text-align: right;\">\n",
       "      <th></th>\n",
       "      <th>Link</th>\n",
       "      <th>Item</th>\n",
       "      <th>Colours</th>\n",
       "      <th>Price</th>\n",
       "    </tr>\n",
       "  </thead>\n",
       "  <tbody>\n",
       "    <tr>\n",
       "      <th>0</th>\n",
       "      <td></td>\n",
       "      <td></td>\n",
       "      <td></td>\n",
       "      <td></td>\n",
       "    </tr>\n",
       "    <tr>\n",
       "      <th>1</th>\n",
       "      <td>https://www.underarmour.com.sg/en-sg/p/accesso...</td>\n",
       "      <td>UA SPORTSMASK Featherweight</td>\n",
       "      <td>6 Colors</td>\n",
       "      <td>S$ 29.00</td>\n",
       "    </tr>\n",
       "    <tr>\n",
       "      <th>2</th>\n",
       "      <td>https://www.underarmour.com.sg/en-sg/p/best-se...</td>\n",
       "      <td>Men's UA Playoff Polo 2.0</td>\n",
       "      <td>10 Colors</td>\n",
       "      <td>S$ 89.00</td>\n",
       "    </tr>\n",
       "    <tr>\n",
       "      <th>3</th>\n",
       "      <td>https://www.underarmour.com.sg/en-sg/p/men-foo...</td>\n",
       "      <td>Unisex UA 3Z5 Basketball Shoes</td>\n",
       "      <td>2 Colors</td>\n",
       "      <td>S$ 139.00</td>\n",
       "    </tr>\n",
       "    <tr>\n",
       "      <th>4</th>\n",
       "      <td>https://www.underarmour.com.sg/en-sg/p/men-clo...</td>\n",
       "      <td>Men's UA Tech™ 2.0 Dash Short Sleeve</td>\n",
       "      <td>11 Colors</td>\n",
       "      <td>S$ 35.00</td>\n",
       "    </tr>\n",
       "  </tbody>\n",
       "</table>\n",
       "</div>"
      ],
      "text/plain": [
       "                                                Link  \\\n",
       "0                                                      \n",
       "1  https://www.underarmour.com.sg/en-sg/p/accesso...   \n",
       "2  https://www.underarmour.com.sg/en-sg/p/best-se...   \n",
       "3  https://www.underarmour.com.sg/en-sg/p/men-foo...   \n",
       "4  https://www.underarmour.com.sg/en-sg/p/men-clo...   \n",
       "\n",
       "                                   Item    Colours      Price  \n",
       "0                                                              \n",
       "1           UA SPORTSMASK Featherweight   6 Colors   S$ 29.00  \n",
       "2             Men's UA Playoff Polo 2.0  10 Colors   S$ 89.00  \n",
       "3        Unisex UA 3Z5 Basketball Shoes   2 Colors  S$ 139.00  \n",
       "4  Men's UA Tech™ 2.0 Dash Short Sleeve  11 Colors   S$ 35.00  "
      ]
     },
     "execution_count": 3,
     "metadata": {},
     "output_type": "execute_result"
    }
   ],
   "source": [
    "df.head()"
   ]
  },
  {
   "cell_type": "markdown",
   "id": "9759d02f",
   "metadata": {},
   "source": [
    "## 3. Cleaning up the Data"
   ]
  },
  {
   "cell_type": "code",
   "execution_count": 4,
   "id": "0bfd57b5",
   "metadata": {},
   "outputs": [],
   "source": [
    "# Removing the first row\n",
    "df.drop(0, inplace = True)\n",
    "\n",
    "# Removing unwanted strings\n",
    "df['Price'] = df['Price'].apply(lambda x: x.split()[1])\n",
    "df['Colours'] = df['Colours'].apply(lambda x: x.split()[0])\n",
    "\n",
    "# Changing dtypes\n",
    "df['Colours'] = df['Colours'].astype(int)\n",
    "df['Price'] = df['Price'].astype(float)"
   ]
  },
  {
   "cell_type": "code",
   "execution_count": 5,
   "id": "9457ddf1",
   "metadata": {},
   "outputs": [
    {
     "data": {
      "text/html": [
       "<div>\n",
       "<style scoped>\n",
       "    .dataframe tbody tr th:only-of-type {\n",
       "        vertical-align: middle;\n",
       "    }\n",
       "\n",
       "    .dataframe tbody tr th {\n",
       "        vertical-align: top;\n",
       "    }\n",
       "\n",
       "    .dataframe thead th {\n",
       "        text-align: right;\n",
       "    }\n",
       "</style>\n",
       "<table border=\"1\" class=\"dataframe\">\n",
       "  <thead>\n",
       "    <tr style=\"text-align: right;\">\n",
       "      <th></th>\n",
       "      <th>Link</th>\n",
       "      <th>Item</th>\n",
       "      <th>Colours</th>\n",
       "      <th>Price</th>\n",
       "    </tr>\n",
       "  </thead>\n",
       "  <tbody>\n",
       "    <tr>\n",
       "      <th>1</th>\n",
       "      <td>https://www.underarmour.com.sg/en-sg/p/accesso...</td>\n",
       "      <td>UA SPORTSMASK Featherweight</td>\n",
       "      <td>6</td>\n",
       "      <td>29.0</td>\n",
       "    </tr>\n",
       "    <tr>\n",
       "      <th>2</th>\n",
       "      <td>https://www.underarmour.com.sg/en-sg/p/best-se...</td>\n",
       "      <td>Men's UA Playoff Polo 2.0</td>\n",
       "      <td>10</td>\n",
       "      <td>89.0</td>\n",
       "    </tr>\n",
       "    <tr>\n",
       "      <th>3</th>\n",
       "      <td>https://www.underarmour.com.sg/en-sg/p/men-foo...</td>\n",
       "      <td>Unisex UA 3Z5 Basketball Shoes</td>\n",
       "      <td>2</td>\n",
       "      <td>139.0</td>\n",
       "    </tr>\n",
       "    <tr>\n",
       "      <th>4</th>\n",
       "      <td>https://www.underarmour.com.sg/en-sg/p/men-clo...</td>\n",
       "      <td>Men's UA Tech™ 2.0 Dash Short Sleeve</td>\n",
       "      <td>11</td>\n",
       "      <td>35.0</td>\n",
       "    </tr>\n",
       "    <tr>\n",
       "      <th>5</th>\n",
       "      <td>https://www.underarmour.com.sg/en-sg/p/men-foo...</td>\n",
       "      <td>Unisex Curry Flow 9 Basketball Shoes</td>\n",
       "      <td>1</td>\n",
       "      <td>239.0</td>\n",
       "    </tr>\n",
       "  </tbody>\n",
       "</table>\n",
       "</div>"
      ],
      "text/plain": [
       "                                                Link  \\\n",
       "1  https://www.underarmour.com.sg/en-sg/p/accesso...   \n",
       "2  https://www.underarmour.com.sg/en-sg/p/best-se...   \n",
       "3  https://www.underarmour.com.sg/en-sg/p/men-foo...   \n",
       "4  https://www.underarmour.com.sg/en-sg/p/men-clo...   \n",
       "5  https://www.underarmour.com.sg/en-sg/p/men-foo...   \n",
       "\n",
       "                                   Item  Colours  Price  \n",
       "1           UA SPORTSMASK Featherweight        6   29.0  \n",
       "2             Men's UA Playoff Polo 2.0       10   89.0  \n",
       "3        Unisex UA 3Z5 Basketball Shoes        2  139.0  \n",
       "4  Men's UA Tech™ 2.0 Dash Short Sleeve       11   35.0  \n",
       "5  Unisex Curry Flow 9 Basketball Shoes        1  239.0  "
      ]
     },
     "execution_count": 5,
     "metadata": {},
     "output_type": "execute_result"
    }
   ],
   "source": [
    "df.head()"
   ]
  },
  {
   "cell_type": "code",
   "execution_count": 6,
   "id": "1508ab51",
   "metadata": {},
   "outputs": [
    {
     "name": "stdout",
     "output_type": "stream",
     "text": [
      "<class 'pandas.core.frame.DataFrame'>\n",
      "RangeIndex: 426 entries, 1 to 426\n",
      "Data columns (total 4 columns):\n",
      " #   Column   Non-Null Count  Dtype  \n",
      "---  ------   --------------  -----  \n",
      " 0   Link     426 non-null    object \n",
      " 1   Item     426 non-null    object \n",
      " 2   Colours  426 non-null    int32  \n",
      " 3   Price    426 non-null    float64\n",
      "dtypes: float64(1), int32(1), object(2)\n",
      "memory usage: 11.8+ KB\n"
     ]
    }
   ],
   "source": [
    "df.info()"
   ]
  },
  {
   "cell_type": "markdown",
   "id": "2b86b3f2",
   "metadata": {},
   "source": [
    "## 4. Saving the Data into a CSV File"
   ]
  },
  {
   "cell_type": "code",
   "execution_count": 7,
   "id": "86dcbac5",
   "metadata": {},
   "outputs": [],
   "source": [
    "df.to_csv('under_armour_list.csv', index = False)"
   ]
  }
 ],
 "metadata": {
  "kernelspec": {
   "display_name": "Python 3 (ipykernel)",
   "language": "python",
   "name": "python3"
  },
  "language_info": {
   "codemirror_mode": {
    "name": "ipython",
    "version": 3
   },
   "file_extension": ".py",
   "mimetype": "text/x-python",
   "name": "python",
   "nbconvert_exporter": "python",
   "pygments_lexer": "ipython3",
   "version": "3.9.12"
  }
 },
 "nbformat": 4,
 "nbformat_minor": 5
}
